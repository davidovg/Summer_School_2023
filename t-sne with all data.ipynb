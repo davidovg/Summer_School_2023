{
 "cells": [
  {
   "cell_type": "markdown",
   "id": "0ec752c1",
   "metadata": {},
   "source": [
    "## t-sne with all data"
   ]
  },
  {
   "cell_type": "code",
   "execution_count": null,
   "id": "c51e2c01",
   "metadata": {},
   "outputs": [],
   "source": [
    "import pandas as pd\n",
    "import numpy as np\n",
    "import seaborn as sns\n",
    "import matplotlib.pyplot as plt\n",
    "import time\n",
    "from sklearn.preprocessing import StandardScaler\n",
    "from sklearn.neighbors import KNeighborsClassifier\n",
    "from sklearn.cluster import KMeans\n",
    "from sklearn.metrics.pairwise import euclidean_distances\n",
    "from sklearn.manifold import TSNE\n",
    "from sklearn.cluster import KMeans"
   ]
  },
  {
   "cell_type": "code",
   "execution_count": null,
   "id": "45850aee",
   "metadata": {},
   "outputs": [],
   "source": [
    "data=pd.read_csv('Zephyr Data Emo with new categories.csv', engine=\"python\", delimiter=';')"
   ]
  },
  {
   "cell_type": "code",
   "execution_count": null,
   "id": "d9adf93d",
   "metadata": {},
   "outputs": [],
   "source": [
    "data.fillna(0, inplace=True)\n",
    "data.set_index('Time', inplace=True)\n",
    "data.index = pd.to_datetime(data.index, format='%d.%m.%Y %H:%M:%S')"
   ]
  },
  {
   "cell_type": "code",
   "execution_count": null,
   "id": "cd247fb1",
   "metadata": {},
   "outputs": [],
   "source": [
    "data = data[data['Activities Detailed'] != 'papper work']\n",
    "data = data[data['HRConfidence'] >= 20]"
   ]
  },
  {
   "cell_type": "code",
   "execution_count": null,
   "id": "0c9f6754",
   "metadata": {},
   "outputs": [],
   "source": [
    "data['Activity'] = data['Activity'].str.replace(',', '.')\n",
    "data['Activity'] = data['Activity'].astype(float)\n",
    "\n",
    "data['PeakAcceleration'] = data['PeakAcceleration'].str.replace(',', '.')\n",
    "data['PeakAcceleration'] = data['PeakAcceleration'].astype(float)\n",
    "\n",
    "data['ECGAmplitude'] = data['ECGAmplitude'].str.replace(',', '.')\n",
    "data['ECGAmplitude'] = data['ECGAmplitude'].astype(float)\n",
    "\n",
    "data['ECGNoise'] = data['ECGNoise'].str.replace(',', '.')\n",
    "data['ECGNoise'] = data['ECGNoise'].astype(float)\n",
    "\n",
    "data['CoreTemp'] = data['CoreTemp'].str.replace(',', '.')\n",
    "data['CoreTemp'] = data['CoreTemp'].astype(float)\n",
    "\n",
    "data['AvForceDevRate'] = data['AvForceDevRate'].str.replace(',', '.')\n",
    "data['AvForceDevRate'] = data['AvForceDevRate'].astype(float)\n",
    "\n",
    "data['AvStepImpulse'] = data['AvStepImpulse'].str.replace(',', '.')\n",
    "data['AvStepImpulse'] = data['AvStepImpulse'].astype(float)\n",
    "\n",
    "data['AvStepPeriod'] = data['AvStepPeriod'].str.replace(',', '.')\n",
    "data['AvStepPeriod'] = data['AvStepPeriod'].astype(float)"
   ]
  },
  {
   "cell_type": "code",
   "execution_count": null,
   "id": "742dc729",
   "metadata": {},
   "outputs": [],
   "source": [
    "columns_to_exclude = ['Year','Month', 'Weekday', 'Hour', 'Date','Activities','Name of the volunteer', \n",
    "                      'PeakAcceleration','HRConfidence','AvForceDevRate','AvStepImpulse','WalkSteps','RunSteps','Bounds',\n",
    "                      'CoreTemp', 'MinorImpacts', 'MajorImpacts']\n",
    "numerical_columns  = data.drop(columns=columns_to_exclude)\n",
    "\n",
    "# Get the numeric columns including \"Activities Detailed\" column\n",
    "numeric_columns = numerical_columns.select_dtypes(include=[np.number, \"object\"])\n",
    "\n",
    "non_binary_columns_tsne = numerical_columns.loc[:, ~(numerical_columns.isin([0, 1])).all()]  # Exclude columns with only 0s and 1s\n",
    "# Exclude these columns as they don't provide important information"
   ]
  },
  {
   "cell_type": "code",
   "execution_count": null,
   "id": "099413ee",
   "metadata": {},
   "outputs": [],
   "source": [
    "X_all = non_binary_columns_tsne.drop('Activities Detailed', axis=1)\n",
    "X_all = feature_normalize(X_all)\n",
    "y_all = non_binary_columns_tsne['Activities Detailed']"
   ]
  },
  {
   "cell_type": "code",
   "execution_count": null,
   "id": "c596f82a",
   "metadata": {},
   "outputs": [],
   "source": [
    "def assign_labels_to_clusters(df_kmeans):\n",
    "    # Group the data by 'label' and 'cluster' and count the occurrences\n",
    "    label_cluster_counts = df_kmeans.groupby(['label', 'cluster']).size().reset_index(name='count')\n",
    "\n",
    "    # Find the dominant cluster for each label\n",
    "    idx = label_cluster_counts.groupby(['label'])['count'].transform(max) == label_cluster_counts['count']\n",
    "    dominant_clusters = label_cluster_counts[idx]\n",
    "\n",
    "    # Create a dictionary mapping each label to its dominant cluster\n",
    "    label_to_cluster = dict(zip(dominant_clusters['label'], dominant_clusters['cluster']))\n",
    "\n",
    "    # Assign labels to clusters based on the dominant clusters\n",
    "    df_kmeans['assigned_cluster'] = df_kmeans['label'].map(label_to_cluster)\n",
    "\n",
    "    return df_kmeans\n",
    "\n",
    "def perform_tsne_with_kmeans(X_data, y_data, perplexities, n_clusters_range, n_iter=1000, img_name_prefix='t-sne'):\n",
    "    colors = sns.color_palette('tab20', n_colors=20)  # Choose a larger color palette\n",
    "\n",
    "    for index, perplexity in enumerate(perplexities):\n",
    "        X_reduced = TSNE(verbose=2, perplexity=perplexity).fit_transform(X_data)\n",
    "\n",
    "        df = pd.DataFrame({'x': X_reduced[:, 0], 'y': X_reduced[:, 1], 'label': y_data})\n",
    "        unique_labels = df['label'].unique()\n",
    "\n",
    "        # set for each level different color\n",
    "        color_dict = dict(zip(unique_labels, colors[:len(unique_labels)]))\n",
    "        df['color'] = df['label'].map(color_dict)\n",
    "\n",
    "        # plot the results\n",
    "        plt.figure(figsize=(14, 10))\n",
    "        sns.scatterplot(data=df, x='x', y='y', hue='label', style='label', palette=color_dict, markers=True)\n",
    "        plt.title(\"Perplexity: {} and Max_iter: {}\".format(perplexity, n_iter))\n",
    "        img_name = img_name_prefix + '_perp_{}_iter_{}.png'.format(perplexity, n_iter)\n",
    "        plt.savefig(img_name)\n",
    "        plt.show()\n",
    "        print('All good')\n",
    "\n",
    "        # Apply K-Means clustering on the t-SNE reduced data\n",
    "        for n_clusters in n_clusters_range:\n",
    "            kmeans = KMeans(n_clusters=n_clusters, random_state=42)\n",
    "            clusters = kmeans.fit_predict(X_reduced)\n",
    "\n",
    "            # Prepare the data for seaborn\n",
    "            df_kmeans = pd.DataFrame({'x': X_reduced[:, 0], 'y': X_reduced[:, 1], 'cluster': clusters, 'label': y_data})\n",
    "\n",
    "            # Create a dictionary mapping each cluster to a color\n",
    "            color_dict_kmeans = dict(zip(range(n_clusters), colors[:n_clusters]))\n",
    "\n",
    "            # Map the colors to the 'cluster' column\n",
    "            df_kmeans['color'] = df_kmeans['cluster'].map(color_dict_kmeans)\n",
    "\n",
    "            # Draw the K-Means clustering plot\n",
    "            plt.figure(figsize=(14, 10))\n",
    "            sns.scatterplot(data=df_kmeans, x='x', y='y', hue='cluster', palette=color_dict_kmeans, markers=True)\n",
    "            plt.title(\"K-Means Clustering with {} clusters\".format(n_clusters))\n",
    "            img_name = img_name_prefix + '_perp_{}_iter_{}_kmeans_{}.png'.format(perplexity, n_iter, n_clusters)\n",
    "            print('Saving this K-Means clustering plot as an image in the present working directory...')\n",
    "            plt.savefig(img_name)\n",
    "            plt.show()\n",
    "            print('Done')\n",
    "\n",
    "            # Assign labels to clusters based on the majority of points\n",
    "            df_kmeans = assign_labels_to_clusters(df_kmeans)\n",
    "\n",
    "            # Display labels included in each cluster\n",
    "            for cluster_num in range(n_clusters):\n",
    "                cluster_labels = df_kmeans[df_kmeans['assigned_cluster'] == cluster_num]['label'].unique()\n",
    "                print(\"Cluster {}: {}\".format(cluster_num, \", \".join(cluster_labels)))"
   ]
  },
  {
   "cell_type": "code",
   "execution_count": null,
   "id": "e426f2af",
   "metadata": {},
   "outputs": [],
   "source": [
    "perform_tsne_with_kmeans(X_data = X_all, y_data = y_all, perplexities=[2,10,20], n_clusters_range=[5, 6, 7])"
   ]
  }
 ],
 "metadata": {
  "kernelspec": {
   "display_name": "Python 3 (ipykernel)",
   "language": "python",
   "name": "python3"
  },
  "language_info": {
   "codemirror_mode": {
    "name": "ipython",
    "version": 3
   },
   "file_extension": ".py",
   "mimetype": "text/x-python",
   "name": "python",
   "nbconvert_exporter": "python",
   "pygments_lexer": "ipython3",
   "version": "3.10.9"
  }
 },
 "nbformat": 4,
 "nbformat_minor": 5
}
